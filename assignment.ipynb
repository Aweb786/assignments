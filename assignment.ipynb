{
 "cells": [
  {
   "cell_type": "code",
   "execution_count": 1,
   "id": "e34babf9-8b29-4a19-b542-96e2809115dc",
   "metadata": {},
   "outputs": [],
   "source": [
    "#creating a cariable cantaining following data type\n",
    "st=\"WELCOME TO  THE AZHAR REPOSITORT\"\n",
    "li=[1,4,7.9,\"PWSKILLS\",[1,4,6,7]]\n",
    "var=7.8\n",
    "tup=(3,7.5,\"PWSKILLS\",[1,4,5,7])\n",
    "\n",
    "\n",
    "\n",
    "\n"
   ]
  },
  {
   "cell_type": "code",
   "execution_count": 2,
   "id": "0bab1bf4-2da9-4acd-9776-b1dc9caa1839",
   "metadata": {},
   "outputs": [
    {
     "data": {
      "text/plain": [
       "str"
      ]
     },
     "execution_count": 2,
     "metadata": {},
     "output_type": "execute_result"
    }
   ],
   "source": [
    "type(st)"
   ]
  },
  {
   "cell_type": "code",
   "execution_count": 3,
   "id": "e4a3c0e7-c84e-4d1e-8be8-f2cabc0e1056",
   "metadata": {},
   "outputs": [
    {
     "data": {
      "text/plain": [
       "list"
      ]
     },
     "execution_count": 3,
     "metadata": {},
     "output_type": "execute_result"
    }
   ],
   "source": [
    "type(li)"
   ]
  },
  {
   "cell_type": "code",
   "execution_count": 4,
   "id": "a51a0d1f-17bd-4460-84df-753bfab5c2b3",
   "metadata": {},
   "outputs": [
    {
     "data": {
      "text/plain": [
       "float"
      ]
     },
     "execution_count": 4,
     "metadata": {},
     "output_type": "execute_result"
    }
   ],
   "source": [
    "type(var)"
   ]
  },
  {
   "cell_type": "code",
   "execution_count": 5,
   "id": "c7d0e81c-0afb-431a-9234-0dc25da7bbb2",
   "metadata": {},
   "outputs": [
    {
     "data": {
      "text/plain": [
       "tuple"
      ]
     },
     "execution_count": 5,
     "metadata": {},
     "output_type": "execute_result"
    }
   ],
   "source": [
    "type(tup)"
   ]
  },
  {
   "cell_type": "code",
   "execution_count": 6,
   "id": "cc87f19f-58fa-4d32-af6b-c9eb6924d922",
   "metadata": {},
   "outputs": [
    {
     "data": {
      "text/plain": [
       "str"
      ]
     },
     "execution_count": 6,
     "metadata": {},
     "output_type": "execute_result"
    }
   ],
   "source": [
    "# 2. identified the d aata types of the folowing\n",
    "var1='' #string data type\n",
    "type(var1)"
   ]
  },
  {
   "cell_type": "code",
   "execution_count": 7,
   "id": "5caf378b-52b2-409f-82c2-c640417de489",
   "metadata": {},
   "outputs": [
    {
     "data": {
      "text/plain": [
       "str"
      ]
     },
     "execution_count": 7,
     "metadata": {},
     "output_type": "execute_result"
    }
   ],
   "source": [
    "var2='[DS,ML,PYTHON]' #string data type\n",
    "type(var2)"
   ]
  },
  {
   "cell_type": "code",
   "execution_count": 8,
   "id": "60dee167-e9c8-482c-9fad-c7354e3ee848",
   "metadata": {},
   "outputs": [
    {
     "data": {
      "text/plain": [
       "list"
      ]
     },
     "execution_count": 8,
     "metadata": {},
     "output_type": "execute_result"
    }
   ],
   "source": [
    "var3=['DS','ML','PYTHON'] #list data type\n",
    "type(var3)"
   ]
  },
  {
   "cell_type": "code",
   "execution_count": 9,
   "id": "08078254-b416-4f11-ab81-ce16edaf0fa5",
   "metadata": {},
   "outputs": [
    {
     "data": {
      "text/plain": [
       "int"
      ]
     },
     "execution_count": 9,
     "metadata": {},
     "output_type": "execute_result"
    }
   ],
   "source": [
    "var4=1 #int data type\n",
    "type(var4)"
   ]
  },
  {
   "cell_type": "code",
   "execution_count": 10,
   "id": "97eeb6ea-d127-4612-925d-1f66344de065",
   "metadata": {},
   "outputs": [
    {
     "data": {
      "text/plain": [
       "2.0"
      ]
     },
     "execution_count": 10,
     "metadata": {},
     "output_type": "execute_result"
    }
   ],
   "source": [
    "# 3. explaning the use of folowing opertor\n",
    "a=10\n",
    "b=5\n",
    "'''division('/') operator is used to divide two numbers.it gives the float values.'''\n",
    "a/b"
   ]
  },
  {
   "cell_type": "code",
   "execution_count": 11,
   "id": "f1343c5a-1fbf-4c68-8942-be4b50bf0916",
   "metadata": {},
   "outputs": [
    {
     "data": {
      "text/plain": [
       "1"
      ]
     },
     "execution_count": 11,
     "metadata": {},
     "output_type": "execute_result"
    }
   ],
   "source": [
    "# using of modulus operator\n",
    "a=10\n",
    "b=3\n",
    "'''mudulus operator(%) is used to find the remainder of two numbers'''\n",
    "a%b"
   ]
  },
  {
   "cell_type": "code",
   "execution_count": 12,
   "id": "c635fc6d-c807-450c-9926-6b66bb588591",
   "metadata": {},
   "outputs": [
    {
     "data": {
      "text/plain": [
       "2"
      ]
     },
     "execution_count": 12,
     "metadata": {},
     "output_type": "execute_result"
    }
   ],
   "source": [
    "#floor division \"//\" \n",
    "a=10\n",
    "b=4\n",
    "'''floor division operator('//') gives the only interger value after dividing the two numbers'''\n",
    "a//b\n"
   ]
  },
  {
   "cell_type": "code",
   "execution_count": 13,
   "id": "51dd7ec7-0f16-4ffc-85a2-0e670dc85fa5",
   "metadata": {},
   "outputs": [
    {
     "data": {
      "text/plain": [
       "16"
      ]
     },
     "execution_count": 13,
     "metadata": {},
     "output_type": "execute_result"
    }
   ],
   "source": [
    "#'**' operator\n",
    "''' this operator('**') is used to find the square of the number'''\n",
    "a=4\n",
    "a**2\n",
    "\n"
   ]
  },
  {
   "cell_type": "code",
   "execution_count": 14,
   "id": "3e8dd7e9-a1be-435d-bcda-d096c360e03f",
   "metadata": {},
   "outputs": [
    {
     "name": "stdout",
     "output_type": "stream",
     "text": [
      "element is 1  and the data type of 1 is <class 'int'>\n",
      "element is 5.7  and the data type of 5.7 is <class 'float'>\n",
      "element is pwskills  and the data type of pwskills is <class 'str'>\n",
      "element is (5+7j)  and the data type of (5+7j) is <class 'complex'>\n",
      "element is patna  and the data type of patna is <class 'str'>\n",
      "element is 3  and the data type of 3 is <class 'int'>\n",
      "element is True  and the data type of True is <class 'bool'>\n",
      "element is False  and the data type of False is <class 'bool'>\n",
      "element is (1, 2, 3, 4)  and the data type of (1, 2, 3, 4) is <class 'tuple'>\n",
      "element is [1, 6, 'datascience']  and the data type of [1, 6, 'datascience'] is <class 'list'>\n"
     ]
    }
   ],
   "source": [
    "# creating the list of lenght 10\n",
    "li=[1,5.7,\"pwskills\",5+7j,\"patna\",3,True,False,(1,2,3,4),[1,6,\"datascience\"]]\n",
    "for i in li:\n",
    "    print(\"element is\",i,\" and the data type of\",i,\"is\",type(i))                                                     \n",
    "                                                          "
   ]
  },
  {
   "cell_type": "code",
   "execution_count": 15,
   "id": "34f5b3fd-9502-4312-b3c4-7d59df2d950f",
   "metadata": {},
   "outputs": [
    {
     "name": "stdout",
     "output_type": "stream",
     "text": [
      "1  is not divisible by 3\n",
      "2  is not divisible by 3\n",
      "3  is divisible by 3\n",
      "4  is not divisible by 3\n",
      "5  is not divisible by 3\n",
      "6  is divisible by 3\n",
      "7  is not divisible by 3\n",
      "8  is not divisible by 3\n",
      "9  is divisible by 3\n",
      "10  is not divisible by 3\n",
      "11  is not divisible by 3\n",
      "12  is divisible by 3\n",
      "13  is not divisible by 3\n",
      "14  is not divisible by 3\n",
      "15  is divisible by 3\n",
      "16  is not divisible by 3\n",
      "17  is not divisible by 3\n",
      "18  is divisible by 3\n",
      "19  is not divisible by 3\n",
      "20  is not divisible by 3\n",
      "21  is divisible by 3\n",
      "22  is not divisible by 3\n",
      "23  is not divisible by 3\n",
      "24  is divisible by 3\n",
      "25  is not divisible by 3\n"
     ]
    }
   ],
   "source": [
    "lst=[1,2,3,4,5,6,7,8,9,10,11,12,13,14,15,16,17,18,19,20,21,22,23,24,25]\n",
    "for i in lst:\n",
    "    if i%3==0:\n",
    "        print(i,\" is divisible by 3\")\n",
    "    else:\n",
    "        print(i,\" is not divisible by 3\")"
   ]
  },
  {
   "cell_type": "code",
   "execution_count": 16,
   "id": "1cbe8af5-6609-44ff-ae68-29a5a116fd1c",
   "metadata": {},
   "outputs": [
    {
     "data": {
      "text/plain": [
       "[1, 2, 3, 4, 5]"
      ]
     },
     "execution_count": 16,
     "metadata": {},
     "output_type": "execute_result"
    }
   ],
   "source": [
    "''' mutable simply means i can be changable in nature.\n",
    "    mutable object can be changed after it is created.\n",
    "    int,float,list,dictionary,set etc are the example of the \n",
    "    mutable object'''\n",
    "li=[1,2,3,4]\n",
    "li.append(5)\n",
    "li\n",
    "\n",
    "\n"
   ]
  },
  {
   "cell_type": "code",
   "execution_count": 17,
   "id": "7f4e9cb8-01c4-439a-9708-b0d3f2577941",
   "metadata": {},
   "outputs": [
    {
     "data": {
      "text/plain": [
       "[1, 2, 7, 4, 5]"
      ]
     },
     "execution_count": 17,
     "metadata": {},
     "output_type": "execute_result"
    }
   ],
   "source": [
    "li[2]=7\n",
    "li"
   ]
  },
  {
   "cell_type": "code",
   "execution_count": 18,
   "id": "433cb9b7-aaf8-4967-80df-aabe12aeafe9",
   "metadata": {},
   "outputs": [],
   "source": [
    "li.remove(7)"
   ]
  },
  {
   "cell_type": "code",
   "execution_count": 19,
   "id": "93a4aff1-f5c3-43f1-bcbc-9c8f26b0f344",
   "metadata": {},
   "outputs": [
    {
     "data": {
      "text/plain": [
       "[1, 2, 4, 5]"
      ]
     },
     "execution_count": 19,
     "metadata": {},
     "output_type": "execute_result"
    }
   ],
   "source": [
    "li"
   ]
  },
  {
   "cell_type": "code",
   "execution_count": 20,
   "id": "ab2d1838-bf0e-40c2-9168-66836cc3ca91",
   "metadata": {},
   "outputs": [
    {
     "ename": "TypeError",
     "evalue": "'str' object does not support item assignment",
     "output_type": "error",
     "traceback": [
      "\u001b[0;31m---------------------------------------------------------------------------\u001b[0m",
      "\u001b[0;31mTypeError\u001b[0m                                 Traceback (most recent call last)",
      "Cell \u001b[0;32mIn[20], line 5\u001b[0m\n\u001b[1;32m      3\u001b[0m \u001b[38;5;66;03m# for example\u001b[39;00m\n\u001b[1;32m      4\u001b[0m st\u001b[38;5;241m=\u001b[39m\u001b[38;5;124m\"\u001b[39m\u001b[38;5;124mpwskills is a very good  online platform for learning skills\u001b[39m\u001b[38;5;124m\"\u001b[39m\n\u001b[0;32m----> 5\u001b[0m \u001b[43mst\u001b[49m\u001b[43m[\u001b[49m\u001b[38;5;241;43m2\u001b[39;49m\u001b[43m]\u001b[49m\u001b[38;5;241m=\u001b[39m\u001b[38;5;124m\"\u001b[39m\u001b[38;5;124mare\u001b[39m\u001b[38;5;124m\"\u001b[39m \u001b[38;5;66;03m#it will give the type error\u001b[39;00m\n",
      "\u001b[0;31mTypeError\u001b[0m: 'str' object does not support item assignment"
     ]
    }
   ],
   "source": [
    "'''immutable simply means it can not be changed after it creation.\n",
    "tuple and string are the example of the immutable object.'''\n",
    "# for example\n",
    "st=\"pwskills is a very good  online platform for learning skills\"\n",
    "st[2]=\"are\" #it will give the type error\n"
   ]
  },
  {
   "cell_type": "code",
   "execution_count": 21,
   "id": "8ca8ae8a-04fc-4009-97a6-cb5f8fb3d710",
   "metadata": {},
   "outputs": [
    {
     "name": "stdin",
     "output_type": "stream",
     "text": [
      " 100\n",
      " 10\n"
     ]
    },
    {
     "name": "stdout",
     "output_type": "stream",
     "text": [
      "It will divisible at 10 times\n"
     ]
    }
   ],
   "source": [
    "A=int(input())\n",
    "B=int(input())\n",
    "while A%B==0:\n",
    "    x=A//B\n",
    "    print(\"It will divisible at\", x,\"times\")\n",
    "    break\n"
   ]
  },
  {
   "cell_type": "code",
   "execution_count": null,
   "id": "7a4a81de-98df-4580-acb3-db7292d07061",
   "metadata": {},
   "outputs": [],
   "source": []
  }
 ],
 "metadata": {
  "kernelspec": {
   "display_name": "Python 3 (ipykernel)",
   "language": "python",
   "name": "python3"
  },
  "language_info": {
   "codemirror_mode": {
    "name": "ipython",
    "version": 3
   },
   "file_extension": ".py",
   "mimetype": "text/x-python",
   "name": "python",
   "nbconvert_exporter": "python",
   "pygments_lexer": "ipython3",
   "version": "3.10.8"
  }
 },
 "nbformat": 4,
 "nbformat_minor": 5
}
